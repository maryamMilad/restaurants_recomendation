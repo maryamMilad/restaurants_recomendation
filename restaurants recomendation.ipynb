{
  "nbformat": 4,
  "nbformat_minor": 0,
  "metadata": {
    "colab": {
      "provenance": []
    },
    "kernelspec": {
      "name": "python3",
      "display_name": "Python 3"
    },
    "language_info": {
      "name": "python"
    }
  },
  "cells": [
    {
      "cell_type": "code",
      "execution_count": 1,
      "metadata": {
        "id": "AT_lmjDTszaX"
      },
      "outputs": [],
      "source": [
        "import pandas as pd\n",
        "import numpy as np\n",
        "from sklearn.preprocessing import StandardScaler, OneHotEncoder\n",
        "from sklearn.metrics.pairwise import cosine_similarity"
      ]
    },
    {
      "cell_type": "code",
      "source": [
        "df = pd.read_csv('/content/Dataset .csv')"
      ],
      "metadata": {
        "id": "89LglNuKtCxt"
      },
      "execution_count": 2,
      "outputs": []
    },
    {
      "cell_type": "code",
      "source": [
        "# Preprocess the data\n",
        "def preprocess_data(df):\n",
        "    # Create features for recommendation\n",
        "    features_df = df.copy()\n",
        "\n",
        "    # Convert binary columns to numeric\n",
        "    binary_columns = ['Has Table booking', 'Has Online delivery', 'Is delivering now']\n",
        "    for col in binary_columns:\n",
        "        features_df[col] = (features_df[col] == 'Yes').astype(int)\n",
        "\n",
        "    # One-hot encode cuisines\n",
        "    cuisines_encoded = features_df['Cuisines'].str.get_dummies(sep=', ')\n",
        "\n",
        "    # Scale numerical features\n",
        "    scaler = StandardScaler()\n",
        "    numerical_features = ['Average Cost for two', 'Price range', 'Aggregate rating', 'Votes']\n",
        "    features_df[numerical_features] = scaler.fit_transform(features_df[numerical_features])\n",
        "\n",
        "    # Combine features\n",
        "    final_features = pd.concat([\n",
        "        features_df[numerical_features + binary_columns],\n",
        "        cuisines_encoded\n",
        "    ], axis=1)\n",
        "\n",
        "    return final_features, cuisines_encoded.columns.tolist()\n"
      ],
      "metadata": {
        "id": "z8m83YGKs7Y0"
      },
      "execution_count": 3,
      "outputs": []
    },
    {
      "cell_type": "code",
      "source": [
        "def get_recommendations(user_preferences, features_df, original_df, cuisines_list, top_n=5):\n",
        "    # Create user vector based on preferences\n",
        "    user_vector = np.zeros(features_df.shape[1])\n",
        "\n",
        "    # Set cuisine preferences\n",
        "    if 'cuisines' in user_preferences:\n",
        "        for cuisine in user_preferences['cuisines']:\n",
        "            if cuisine in cuisines_list:\n",
        "                idx = cuisines_list.index(cuisine)\n",
        "                user_vector[idx + 7] = 1  # 7 is the number of non-cuisine features\n",
        "\n",
        "    # Set other preferences\n",
        "    if 'price_range' in user_preferences:\n",
        "        user_vector[1] = user_preferences['price_range']  # Normalized price range\n",
        "    if 'min_rating' in user_preferences:\n",
        "        user_vector[2] = user_preferences['min_rating']  # Normalized rating\n",
        "\n",
        "    # Calculate similarity\n",
        "    similarities = cosine_similarity([user_vector], features_df)[0]\n",
        "\n",
        "    # Get top recommendations\n",
        "    top_indices = similarities.argsort()[-top_n:][::-1]\n",
        "    recommendations = original_df.iloc[top_indices]\n",
        "\n",
        "    return recommendations[['Restaurant Name', 'Cuisines', 'Price range', 'Aggregate rating', 'Average Cost for two', 'City']]\n"
      ],
      "metadata": {
        "id": "G_6aPhwJs7aB"
      },
      "execution_count": 4,
      "outputs": []
    },
    {
      "cell_type": "code",
      "source": [
        "features_df, cuisines_list = preprocess_data(df)\n",
        "\n"
      ],
      "metadata": {
        "id": "GKZyyTbIs7fb"
      },
      "execution_count": 5,
      "outputs": []
    },
    {
      "cell_type": "code",
      "source": [
        "\n",
        "\n",
        "# Example user preferences\n",
        "user_preferences = {\n",
        "    'cuisines': ['Japanese', 'Sushi'],\n",
        "    'price_range': 3,  # Mid-range\n",
        "    'min_rating': 4.0\n",
        "}\n",
        "\n",
        "# Get recommendations\n",
        "recommendations = get_recommendations(user_preferences, features_df, df, cuisines_list)\n",
        "print(\"\\\n",
        "Top Restaurant Recommendations for Japanese/Sushi lovers with mid-range budget:\")\n",
        "print(recommendations)"
      ],
      "metadata": {
        "colab": {
          "base_uri": "https://localhost:8080/"
        },
        "id": "CaA8ZGASs7iQ",
        "outputId": "78bbc936-a7e4-450b-babe-a4fe894fd7de"
      },
      "execution_count": 6,
      "outputs": [
        {
          "output_type": "stream",
          "name": "stdout",
          "text": [
            "Top Restaurant Recommendations for Japanese/Sushi lovers with mid-range budget:\n",
            "     Restaurant Name         Cuisines  Price range  Aggregate rating  \\\n",
            "3               Ooma  Japanese, Sushi            4               4.9   \n",
            "297   Corkscrew Cafe              NaN            3               3.9   \n",
            "9383            Roka  Japanese, Sushi            3               4.6   \n",
            "247            Osaka  Japanese, Sushi            3               4.2   \n",
            "328         Dovetail              NaN            3               3.8   \n",
            "\n",
            "      Average Cost for two              City  \n",
            "3                     1500  Mandaluyong City  \n",
            "297                     40       Gainesville  \n",
            "9383                    60            London  \n",
            "247                     40         Davenport  \n",
            "328                     40             Macon  \n"
          ]
        }
      ]
    }
  ]
}